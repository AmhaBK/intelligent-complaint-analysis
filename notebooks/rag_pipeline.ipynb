{
 "cells": [
  {
   "cell_type": "code",
   "execution_count": null,
   "id": "27f94883",
   "metadata": {},
   "outputs": [],
   "source": [
    "import faiss\n",
    "import pickle\n",
    "import numpy as np\n",
    "from sentence_transformers import SentenceTransformer\n",
    "import torch\n",
    "\n",
    "# ----------------------------\n",
    "# Load model & indexes\n",
    "# ----------------------------\n",
    "\n",
    "device = 'cuda' if torch.cuda.is_available() else 'cpu'\n",
    "model = SentenceTransformer('all-MiniLM-L6-v2', device=device)\n",
    "\n",
    "# Load index (word-based example)\n",
    "index = faiss.read_index('../data/processed/faiss_word_sample.index')\n",
    "with open('../data/processed/word_metadata_sample.pkl', 'rb') as f:\n",
    "    metadata = pickle.load(f)\n",
    "\n",
    "# ----------------------------\n",
    "# Define retriever\n",
    "# ----------------------------\n",
    "\n",
    "def retrieve_top_k(query, k=5):\n",
    "    query_emb = model.encode([query]).astype('float32')\n",
    "    D, I = index.search(query_emb, k)\n",
    "    results = []\n",
    "    for i in I[0]:\n",
    "        result = {\n",
    "            \"chunk\": word_chunks_sample[i],  # or recursive_chunks_sample\n",
    "            \"metadata\": metadata[i]\n",
    "        }\n",
    "        results.append(result)\n",
    "    return results\n",
    "\n",
    "# ----------------------------\n",
    "# Test retrieval\n",
    "# ----------------------------\n",
    "\n",
    "query = \"Why are people unhappy with credit card charges?\"\n",
    "results = retrieve_top_k(query, k=5)\n",
    "\n",
    "print(\"\\n🔍 Top retrieved chunks:\")\n",
    "for res in results:\n",
    "    print(\"-\", res['chunk'][:200], \"...\")\n"
   ]
  }
 ],
 "metadata": {
  "language_info": {
   "name": "python"
  }
 },
 "nbformat": 4,
 "nbformat_minor": 5
}
